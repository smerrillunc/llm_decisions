{
 "cells": [
  {
   "cell_type": "code",
   "execution_count": 1,
   "id": "a8902a61-70f3-445b-a76e-1cfc92233197",
   "metadata": {},
   "outputs": [],
   "source": [
    "import os\n",
    "import subprocess\n",
    "from IPython.display import Video\n",
    "\n",
    "# Add ffmpeg to PATH (optional if not needed for yt-dlp merging)\n",
    "os.environ[\"PATH\"] = \"/work/users/s/m/smerrill/ffmpeg-7.0.2-amd64-static:\" + os.environ[\"PATH\"]"
   ]
  },
  {
   "cell_type": "code",
   "execution_count": 19,
   "id": "430700ce-be55-4f8d-83b9-656dd23d2ecf",
   "metadata": {},
   "outputs": [],
   "source": [
    "def download_full_youtube_video(video_id: str, output_dir: str = \".\") -> str:\n",
    "    \"\"\"\n",
    "    Downloads the full YouTube video and saves it as MP4.\n",
    "\n",
    "    Requires: yt-dlp and ffmpeg (for merging video/audio)\n",
    "    Returns: Full path to downloaded .mp4 file\n",
    "    \"\"\"\n",
    "    url = f\"https://www.youtube.com/watch?v={video_id}\"\n",
    "    output_path = os.path.join(output_dir, f\"{video_id}.mp4\")\n",
    "\n",
    "    download_command = [\n",
    "        \"yt-dlp\",\n",
    "        \"-f\", \"bestvideo+bestaudio/best\",\n",
    "        \"-o\", output_path,\n",
    "        \"--merge-output-format\", \"mp4\",\n",
    "        \"--cookies\", \"cookies.txt\",\n",
    "        url\n",
    "    ]\n",
    "\n",
    "    print(f\"⬇️ Downloading full video from {url}...\")\n",
    "    subprocess.run(download_command, check=True)\n",
    "    print(f\"✅ Video saved to: {output_path}\")\n",
    "\n",
    "    return output_path"
   ]
  },
  {
   "cell_type": "code",
   "execution_count": 20,
   "id": "5184a773-776d-41ab-b98d-a8fd0db31f1a",
   "metadata": {},
   "outputs": [],
   "source": [
    "youtube_links = [\n",
    "    #\"https://www.youtube.com/watch?v=zLqFpa2i9Ow\",\n",
    "    #\"https://www.youtube.com/watch?v=5hxY73VZXok\",\n",
    "    #\"https://www.youtube.com/watch?v=daLM5o6v67c\",\n",
    "    #\"https://www.youtube.com/watch?v=6gwrzUFYMw8\",\n",
    "    #\"https://www.youtube.com/watch?v=PfwawD7a2Sg\",\n",
    "    #\"https://www.youtube.com/watch?v=b0dOdikDv0M\",\n",
    "    #\"https://www.youtube.com/watch?v=BFr19jzSYoM\",\n",
    "    #\"https://www.youtube.com/watch?v=XVE0SqP-6Zg&t=1s\",\n",
    "    #\"https://www.youtube.com/watch?v=-A6v9Byfz20\",\n",
    "    #\"https://www.youtube.com/watch?v=zTstLGW-oOQ\",\n",
    "    #\"https://www.youtube.com/watch?v=z0QuDFzXnt8\",\n",
    "    #\"https://www.youtube.com/watch?v=to9gvUa_6vM\",\n",
    "    #\"https://www.youtube.com/watch?v=rP7XyLqsAgc\",\n",
    "    #\"https://www.youtube.com/watch?v=6WYXzne6dlY\",\n",
    "    #\"https://www.youtube.com/watch?v=crHvtYkt7jA\",\n",
    "    #\"https://www.youtube.com/watch?v=MgHvV_9dxdA\",\n",
    "    #\"https://www.youtube.com/watch?v=o-mxBguJmlU\",\n",
    "    #\"https://www.youtube.com/watch?v=9zIGFJbKhNg\",\n",
    "    #\"https://www.youtube.com/watch?v=NSizXN8dD5g\",\n",
    "    #\"https://www.youtube.com/watch?v=blaYeycF09Q\",\n",
    "    #\"https://www.youtube.com/watch?v=hhvce_UUc4A\",\n",
    "    #\"https://www.youtube.com/watch?v=qHxh7gmoY_I\",\n",
    "    #\"https://www.youtube.com/watch?v=oSl6xiV1cSg\",\n",
    "    #\"https://www.youtube.com/watch?v=HbBO4irR6AA\",\n",
    "    \"https://www.youtube.com/watch?v=_91XXbXeQD4\",\n",
    "    \"https://www.youtube.com/watch?v=xfVck0_Q84w\",\n",
    "    \"https://www.youtube.com/watch?v=o3f7y_9mHcE\",\n",
    "    \"https://www.youtube.com/watch?v=3BtZN2Tye08\",\n",
    "    \"https://www.youtube.com/watch?v=Bcl4e29n7m4\",\n",
    "    \"https://www.youtube.com/watch?v=cF4uYrMPQ24\",\n",
    "    \"https://www.youtube.com/watch?v=5YMkxWBgdtY\",\n",
    "    \"https://www.youtube.com/watch?v=8TdTe--0CUs\",\n",
    "    \"https://www.youtube.com/watch?v=wyl3i48JFkA\",\n",
    "    \"https://www.youtube.com/watch?v=82YE6lBeZA8\",\n",
    "    \"https://www.youtube.com/watch?v=GarPnbypXRk\",\n",
    "    \"https://www.youtube.com/watch?v=BQYLZNhIEDE\",\n",
    "    \"https://www.youtube.com/watch?v=LUO7q6gjpvk\",\n",
    "    \"https://www.youtube.com/watch?v=5GglIIs8-B8\",\n",
    "    \"https://www.youtube.com/watch?v=wbgxA2KNbiw\",\n",
    "    \"https://www.youtube.com/watch?v=xJvnLptI_SU\"\n",
    "]"
   ]
  },
  {
   "cell_type": "code",
   "execution_count": 21,
   "id": "fe2b3142-e785-4bfa-bd09-d20ae9326acf",
   "metadata": {},
   "outputs": [],
   "source": [
    "vids = [x.split('=')[1] for x in youtube_links]\n",
    "output_dir = '/work/users/s/m/smerrill/Albemarle'"
   ]
  },
  {
   "cell_type": "code",
   "execution_count": 22,
   "id": "04b46270-c1c9-43e3-92d3-b2a2d24bc670",
   "metadata": {
    "tags": []
   },
   "outputs": [
    {
     "name": "stdout",
     "output_type": "stream",
     "text": [
      "⬇️ Downloading full video from https://www.youtube.com/watch?v=_91XXbXeQD4...\n",
      "[youtube] Extracting URL: https://www.youtube.com/watch?v=_91XXbXeQD4\n",
      "[youtube] _91XXbXeQD4: Downloading webpage\n",
      "[youtube] _91XXbXeQD4: Downloading tv client config\n",
      "[youtube] _91XXbXeQD4: Downloading player 1b376dba-main\n",
      "[youtube] _91XXbXeQD4: Downloading tv player API JSON\n",
      "[youtube] _91XXbXeQD4: Downloading ios player API JSON\n"
     ]
    },
    {
     "name": "stderr",
     "output_type": "stream",
     "text": [
      "ERROR: [youtube] _91XXbXeQD4: Sign in to confirm you’re not a bot. Use --cookies-from-browser or --cookies for the authentication. See  https://github.com/yt-dlp/yt-dlp/wiki/FAQ#how-do-i-pass-cookies-to-yt-dlp  for how to manually pass cookies. Also see  https://github.com/yt-dlp/yt-dlp/wiki/Extractors#exporting-youtube-cookies  for tips on effectively exporting YouTube cookies\n"
     ]
    },
    {
     "ename": "CalledProcessError",
     "evalue": "Command '['yt-dlp', '-f', 'bestvideo+bestaudio/best', '-o', '/work/users/s/m/smerrill/Albemarle/_91XXbXeQD4.mp4', '--merge-output-format', 'mp4', '--cookies', 'cookies.txt', 'https://www.youtube.com/watch?v=_91XXbXeQD4']' returned non-zero exit status 1.",
     "output_type": "error",
     "traceback": [
      "\u001b[31m---------------------------------------------------------------------------\u001b[39m",
      "\u001b[31mCalledProcessError\u001b[39m                        Traceback (most recent call last)",
      "\u001b[36mCell\u001b[39m\u001b[36m \u001b[39m\u001b[32mIn[22]\u001b[39m\u001b[32m, line 2\u001b[39m\n\u001b[32m      1\u001b[39m \u001b[38;5;28;01mfor\u001b[39;00m vid \u001b[38;5;129;01min\u001b[39;00m vids:\n\u001b[32m----> \u001b[39m\u001b[32m2\u001b[39m     \u001b[43mdownload_full_youtube_video\u001b[49m\u001b[43m(\u001b[49m\u001b[43mvid\u001b[49m\u001b[43m,\u001b[49m\u001b[43m \u001b[49m\u001b[43moutput_dir\u001b[49m\u001b[43m)\u001b[49m\n",
      "\u001b[36mCell\u001b[39m\u001b[36m \u001b[39m\u001b[32mIn[19]\u001b[39m\u001b[32m, line 21\u001b[39m, in \u001b[36mdownload_full_youtube_video\u001b[39m\u001b[34m(video_id, output_dir)\u001b[39m\n\u001b[32m     11\u001b[39m download_command = [\n\u001b[32m     12\u001b[39m     \u001b[33m\"\u001b[39m\u001b[33myt-dlp\u001b[39m\u001b[33m\"\u001b[39m,\n\u001b[32m     13\u001b[39m     \u001b[33m\"\u001b[39m\u001b[33m-f\u001b[39m\u001b[33m\"\u001b[39m, \u001b[33m\"\u001b[39m\u001b[33mbestvideo+bestaudio/best\u001b[39m\u001b[33m\"\u001b[39m,\n\u001b[32m   (...)\u001b[39m\u001b[32m     17\u001b[39m     url\n\u001b[32m     18\u001b[39m ]\n\u001b[32m     20\u001b[39m \u001b[38;5;28mprint\u001b[39m(\u001b[33mf\u001b[39m\u001b[33m\"\u001b[39m\u001b[33m⬇️ Downloading full video from \u001b[39m\u001b[38;5;132;01m{\u001b[39;00murl\u001b[38;5;132;01m}\u001b[39;00m\u001b[33m...\u001b[39m\u001b[33m\"\u001b[39m)\n\u001b[32m---> \u001b[39m\u001b[32m21\u001b[39m \u001b[43msubprocess\u001b[49m\u001b[43m.\u001b[49m\u001b[43mrun\u001b[49m\u001b[43m(\u001b[49m\u001b[43mdownload_command\u001b[49m\u001b[43m,\u001b[49m\u001b[43m \u001b[49m\u001b[43mcheck\u001b[49m\u001b[43m=\u001b[49m\u001b[38;5;28;43;01mTrue\u001b[39;49;00m\u001b[43m)\u001b[49m\n\u001b[32m     22\u001b[39m \u001b[38;5;28mprint\u001b[39m(\u001b[33mf\u001b[39m\u001b[33m\"\u001b[39m\u001b[33m✅ Video saved to: \u001b[39m\u001b[38;5;132;01m{\u001b[39;00moutput_path\u001b[38;5;132;01m}\u001b[39;00m\u001b[33m\"\u001b[39m)\n\u001b[32m     24\u001b[39m \u001b[38;5;28;01mreturn\u001b[39;00m output_path\n",
      "\u001b[36mFile \u001b[39m\u001b[32m/work/users/s/m/smerrill/.conda/envs/speaker/lib/python3.13/subprocess.py:579\u001b[39m, in \u001b[36mrun\u001b[39m\u001b[34m(input, capture_output, timeout, check, *popenargs, **kwargs)\u001b[39m\n\u001b[32m    577\u001b[39m     retcode = process.poll()\n\u001b[32m    578\u001b[39m     \u001b[38;5;28;01mif\u001b[39;00m check \u001b[38;5;129;01mand\u001b[39;00m retcode:\n\u001b[32m--> \u001b[39m\u001b[32m579\u001b[39m         \u001b[38;5;28;01mraise\u001b[39;00m CalledProcessError(retcode, process.args,\n\u001b[32m    580\u001b[39m                                  output=stdout, stderr=stderr)\n\u001b[32m    581\u001b[39m \u001b[38;5;28;01mreturn\u001b[39;00m CompletedProcess(process.args, retcode, stdout, stderr)\n",
      "\u001b[31mCalledProcessError\u001b[39m: Command '['yt-dlp', '-f', 'bestvideo+bestaudio/best', '-o', '/work/users/s/m/smerrill/Albemarle/_91XXbXeQD4.mp4', '--merge-output-format', 'mp4', '--cookies', 'cookies.txt', 'https://www.youtube.com/watch?v=_91XXbXeQD4']' returned non-zero exit status 1."
     ]
    }
   ],
   "source": [
    "for vid in vids:\n",
    "    download_full_youtube_video(vid, output_dir)"
   ]
  },
  {
   "cell_type": "code",
   "execution_count": null,
   "id": "d976f8d5-22ba-4ef1-af52-d7e763965edf",
   "metadata": {},
   "outputs": [],
   "source": [
    "download_full_youtube_video('XVE0SqP-6Zg&t=1s', output_dir)"
   ]
  },
  {
   "cell_type": "code",
   "execution_count": null,
   "id": "c8ab933d-4ca0-4998-9dcc-cf5ae8643c27",
   "metadata": {},
   "outputs": [],
   "source": [
    "notebooks/LLM/speaker_diarization/cookies.txt"
   ]
  }
 ],
 "metadata": {
  "kernelspec": {
   "display_name": "speaker",
   "language": "python",
   "name": "speaker"
  },
  "language_info": {
   "codemirror_mode": {
    "name": "ipython",
    "version": 3
   },
   "file_extension": ".py",
   "mimetype": "text/x-python",
   "name": "python",
   "nbconvert_exporter": "python",
   "pygments_lexer": "ipython3",
   "version": "3.13.2"
  }
 },
 "nbformat": 4,
 "nbformat_minor": 5
}
