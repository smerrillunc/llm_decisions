{
 "cells": [
  {
   "cell_type": "code",
   "execution_count": 1,
   "id": "2c8069f0-ba68-40a4-bfbe-a4db87f33ead",
   "metadata": {},
   "outputs": [],
   "source": [
    "import os\n",
    "import subprocess\n",
    "from IPython.display import Video\n",
    "\n",
    "# Add ffmpeg to PATH (optional if not needed for yt-dlp merging)\n",
    "os.environ[\"PATH\"] = \"/work/users/s/m/smerrill/ffmpeg-7.0.2-amd64-static:\" + os.environ[\"PATH\"]\n",
    "\n",
    "def download_full_youtube_video(video_id: str, output_dir: str = \".\") -> str:\n",
    "    \"\"\"\n",
    "    Downloads the full YouTube video and saves it as MP4.\n",
    "\n",
    "    Requires: yt-dlp and ffmpeg (for merging video/audio)\n",
    "    Returns: Full path to downloaded .mp4 file\n",
    "    \"\"\"\n",
    "    url = f\"https://www.youtube.com/watch?v={video_id}\"\n",
    "    output_path = os.path.join(output_dir, f\"{video_id}.mp4\")\n",
    "\n",
    "    download_command = [\n",
    "        \"yt-dlp\",\n",
    "        \"-f\", \"bestvideo+bestaudio/best\",\n",
    "        \"-o\", output_path,\n",
    "        \"--merge-output-format\", \"mp4\",\n",
    "        url\n",
    "    ]\n",
    "\n",
    "    print(f\"⬇️ Downloading full video from {url}...\")\n",
    "    subprocess.run(download_command, check=True)\n",
    "    print(f\"✅ Video saved to: {output_path}\")\n",
    "\n",
    "    return output_path"
   ]
  },
  {
   "cell_type": "code",
   "execution_count": 2,
   "id": "5184a773-776d-41ab-b98d-a8fd0db31f1a",
   "metadata": {},
   "outputs": [],
   "source": [
    "# for HUUSD School board\n",
    "youtube_links = [\n",
    "    \"https://www.youtube.com/watch?v=zLqFpa2i9Ow\",\n",
    "    \"https://www.youtube.com/watch?v=5hxY73VZXok\",\n",
    "    \"https://www.youtube.com/watch?v=daLM5o6v67c\",\n",
    "    \"https://www.youtube.com/watch?v=6gwrzUFYMw8\",\n",
    "    \"https://www.youtube.com/watch?v=PfwawD7a2Sg\",\n",
    "    \"https://www.youtube.com/watch?v=b0dOdikDv0M\",\n",
    "    \"https://www.youtube.com/watch?v=BFr19jzSYoM\",\n",
    "    \"https://www.youtube.com/watch?v=XVE0SqP-6Zg&t=1s\",\n",
    "    \"https://www.youtube.com/watch?v=-A6v9Byfz20\",\n",
    "    \"https://www.youtube.com/watch?v=zTstLGW-oOQ\",\n",
    "    \"https://www.youtube.com/watch?v=z0QuDFzXnt8\",\n",
    "    \"https://www.youtube.com/watch?v=to9gvUa_6vM\",\n",
    "    \"https://www.youtube.com/watch?v=rP7XyLqsAgc\",\n",
    "    \"https://www.youtube.com/watch?v=6WYXzne6dlY\",\n",
    "    \"https://www.youtube.com/watch?v=crHvtYkt7jA\",\n",
    "    \"https://www.youtube.com/watch?v=MgHvV_9dxdA\",\n",
    "    \"https://www.youtube.com/watch?v=o-mxBguJmlU\",\n",
    "    \"https://www.youtube.com/watch?v=9zIGFJbKhNg\",\n",
    "    \"https://www.youtube.com/watch?v=NSizXN8dD5g\",\n",
    "    \"https://www.youtube.com/watch?v=blaYeycF09Q\",\n",
    "    \"https://www.youtube.com/watch?v=hhvce_UUc4A\",\n",
    "    \"https://www.youtube.com/watch?v=qHxh7gmoY_I\",\n",
    "    \"https://www.youtube.com/watch?v=oSl6xiV1cSg\",\n",
    "    \"https://www.youtube.com/watch?v=HbBO4irR6AA\",\n",
    "    \"https://www.youtube.com/watch?v=_91XXbXeQD4\",\n",
    "    \"https://www.youtube.com/watch?v=xfVck0_Q84w\",\n",
    "    \"https://www.youtube.com/watch?v=o3f7y_9mHcE\",\n",
    "    \"https://www.youtube.com/watch?v=3BtZN2Tye08\",\n",
    "    \"https://www.youtube.com/watch?v=Bcl4e29n7m4\",\n",
    "    \"https://www.youtube.com/watch?v=cF4uYrMPQ24\",\n",
    "    \"https://www.youtube.com/watch?v=5YMkxWBgdtY\",\n",
    "    \"https://www.youtube.com/watch?v=8TdTe--0CUs\",\n",
    "    \"https://www.youtube.com/watch?v=wyl3i48JFkA\",\n",
    "    \"https://www.youtube.com/watch?v=82YE6lBeZA8\",\n",
    "    \"https://www.youtube.com/watch?v=GarPnbypXRk\",\n",
    "    \"https://www.youtube.com/watch?v=BQYLZNhIEDE\",\n",
    "    \"https://www.youtube.com/watch?v=LUO7q6gjpvk\",\n",
    "    \"https://www.youtube.com/watch?v=5GglIIs8-B8\",\n",
    "    \"https://www.youtube.com/watch?v=wbgxA2KNbiw\",\n",
    "    \"https://www.youtube.com/watch?v=xJvnLptI_SU\"\n",
    "]"
   ]
  },
  {
   "cell_type": "code",
   "execution_count": 9,
   "id": "fe2b3142-e785-4bfa-bd09-d20ae9326acf",
   "metadata": {},
   "outputs": [],
   "source": [
    "vids = [x.split('=')[1] for x in youtube_links]\n",
    "output_dir = '/work/users/s/m/smerrill/HUUSD'"
   ]
  },
  {
   "cell_type": "code",
   "execution_count": 7,
   "id": "04b46270-c1c9-43e3-92d3-b2a2d24bc670",
   "metadata": {},
   "outputs": [
    {
     "data": {
      "text/plain": [
       "['zLqFpa2i9Ow',\n",
       " '5hxY73VZXok',\n",
       " 'daLM5o6v67c',\n",
       " '6gwrzUFYMw8',\n",
       " 'PfwawD7a2Sg',\n",
       " 'b0dOdikDv0M',\n",
       " 'BFr19jzSYoM',\n",
       " 'XVE0SqP-6Zg&t',\n",
       " '-A6v9Byfz20',\n",
       " 'zTstLGW-oOQ',\n",
       " 'z0QuDFzXnt8',\n",
       " 'to9gvUa_6vM',\n",
       " 'rP7XyLqsAgc',\n",
       " '6WYXzne6dlY',\n",
       " 'crHvtYkt7jA',\n",
       " 'MgHvV_9dxdA',\n",
       " 'o-mxBguJmlU',\n",
       " '9zIGFJbKhNg',\n",
       " 'NSizXN8dD5g',\n",
       " 'blaYeycF09Q',\n",
       " 'hhvce_UUc4A',\n",
       " 'qHxh7gmoY_I',\n",
       " 'oSl6xiV1cSg',\n",
       " 'HbBO4irR6AA',\n",
       " '_91XXbXeQD4',\n",
       " 'xfVck0_Q84w',\n",
       " 'o3f7y_9mHcE',\n",
       " '3BtZN2Tye08',\n",
       " 'Bcl4e29n7m4',\n",
       " 'cF4uYrMPQ24',\n",
       " '5YMkxWBgdtY',\n",
       " '8TdTe--0CUs',\n",
       " 'wyl3i48JFkA',\n",
       " '82YE6lBeZA8',\n",
       " 'GarPnbypXRk',\n",
       " 'BQYLZNhIEDE',\n",
       " 'LUO7q6gjpvk',\n",
       " '5GglIIs8-B8',\n",
       " 'wbgxA2KNbiw',\n",
       " 'xJvnLptI_SU']"
      ]
     },
     "execution_count": 7,
     "metadata": {},
     "output_type": "execute_result"
    }
   ],
   "source": [
    "for vid in vids:\n",
    "    download_full_youtube_video(vid, output_dir)"
   ]
  },
  {
   "cell_type": "code",
   "execution_count": null,
   "id": "d976f8d5-22ba-4ef1-af52-d7e763965edf",
   "metadata": {},
   "outputs": [],
   "source": []
  }
 ],
 "metadata": {
  "kernelspec": {
   "display_name": "speaker",
   "language": "python",
   "name": "speaker"
  },
  "language_info": {
   "codemirror_mode": {
    "name": "ipython",
    "version": 3
   },
   "file_extension": ".py",
   "mimetype": "text/x-python",
   "name": "python",
   "nbconvert_exporter": "python",
   "pygments_lexer": "ipython3",
   "version": "3.13.2"
  }
 },
 "nbformat": 4,
 "nbformat_minor": 5
}
