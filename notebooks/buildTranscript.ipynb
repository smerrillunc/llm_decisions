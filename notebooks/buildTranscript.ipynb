{
 "cells": [
  {
   "cell_type": "code",
   "execution_count": 25,
   "id": "f3fe0c4e-4ea2-4042-8341-43ff582297f2",
   "metadata": {},
   "outputs": [],
   "source": [
    "from thefuzz import fuzz\n",
    "import numpy as np\n",
    "import os\n",
    "from collections import defaultdict"
   ]
  },
  {
   "cell_type": "markdown",
   "id": "76effb2d-de12-4e32-a242-c12b2a73616b",
   "metadata": {},
   "source": [
    "### Functions to Standardize Names from OCR"
   ]
  },
  {
   "cell_type": "code",
   "execution_count": 2,
   "id": "1c4e4da1-37e8-4429-b32a-9a5dfcfd623c",
   "metadata": {},
   "outputs": [],
   "source": [
    "def standardize_name(name):\n",
    "    # Remove spaces and lowercase for better matching\n",
    "    return ''.join(name.split()).lower()\n",
    "\n",
    "def group_similar_speaker_names(pairs, threshold=85):\n",
    "    unique_names = []\n",
    "    name_map = {}\n",
    "\n",
    "    for _, name in pairs:\n",
    "        std_name = standardize_name(name)\n",
    "        found = False\n",
    "        for canon in unique_names:\n",
    "            if fuzz.ratio(std_name, canon) >= threshold:\n",
    "                name_map[name] = canon\n",
    "                found = True\n",
    "                break\n",
    "        if not found:\n",
    "            unique_names.append(std_name)\n",
    "            name_map[name] = std_name\n",
    "\n",
    "    # Map all names to their canonical representative (de-standardize if needed)\n",
    "    grouped = [(timestamp, name_map[name]) for (timestamp, name) in pairs]\n",
    "    return grouped"
   ]
  },
  {
   "cell_type": "markdown",
   "id": "6d1718d5-0708-440e-b683-4f20de72a148",
   "metadata": {},
   "source": [
    "### Functions to merge Diarization and Speaker changes dicts"
   ]
  },
  {
   "cell_type": "code",
   "execution_count": 21,
   "id": "993f6906-94a1-4d74-bbb6-144d64717b23",
   "metadata": {},
   "outputs": [],
   "source": [
    "def merge_consecutive_speaker_segments(segments, custom_end_time=None):\n",
    "    merged = []\n",
    "    current_speaker = speakerChanges[0][1]\n",
    "    start = speakerChanges[0][0]\n",
    "    end = speakerChanges[0][0]\n",
    "    merged = []\n",
    "    for i in range(len(speakerChanges)):    \n",
    "        if speakerChanges[i][1]== current_speaker:\n",
    "            continue\n",
    "        else:\n",
    "            end = speakerChanges[i][0]\n",
    "            merged.append({'start':start, 'end':end, 'speaker':current_speaker})\n",
    "\n",
    "            start = speakerChanges[i][0]\n",
    "\n",
    "            current_speaker = speakerChanges[i][1]\n",
    "\n",
    "    if custom_end_time:\n",
    "        end = custom_end_time\n",
    "        \n",
    "    if start != end:\n",
    "        merged.append({'start':start, 'end':end, 'speaker':current_speaker})\n",
    "    return merged\n",
    "\n",
    "def merge_diarization(diarization):\n",
    "    merged = []\n",
    "    current_speaker = diarization[0]['speaker']\n",
    "    start_time = diarization[0]['start']\n",
    "    end_time = diarization[0]['end']\n",
    "    text = ''\n",
    "    for i in range(len(diarization)):\n",
    "        speaker = diarization[i]['speaker']\n",
    "        timestamp = diarization[i]['end']\n",
    "        if speaker == current_speaker:\n",
    "            text = text + ' ' + diarization[i]['text']\n",
    "            end_time = timestamp\n",
    "        else:\n",
    "            merged.append({'start': start_time, 'end': end_time, 'speaker': current_speaker, 'text':text})\n",
    "            text = diarization[i]['text']\n",
    "            current_speaker = speaker\n",
    "            start_time = end_time = timestamp\n",
    "\n",
    "    # Add the last segment\n",
    "    merged.append({'start': start_time, 'end': end_time, 'speaker': current_speaker, 'text':text})\n",
    "    return merged"
   ]
  },
  {
   "cell_type": "markdown",
   "id": "46ec9654-a5ff-4562-b274-edf003c64a42",
   "metadata": {},
   "source": [
    "### Identify top speaker based on query interval"
   ]
  },
  {
   "cell_type": "code",
   "execution_count": 35,
   "id": "7a36e781-c50f-4827-8fce-f97de0a3c9c8",
   "metadata": {},
   "outputs": [],
   "source": [
    "def top_speaker(intervals, query_start, query_end):\n",
    "    speaker_times = defaultdict(float)\n",
    "\n",
    "    # Case: point query\n",
    "    if query_start == query_end:\n",
    "        for interval in intervals:\n",
    "            if float(interval['start']) <= query_start <= float(interval['end']):\n",
    "                return interval['speaker'], float(interval['end']) - float(interval['start'])\n",
    "        return None, 0.0  # No speaker was speaking at that exact time\n",
    "\n",
    "\n",
    "    for interval in intervals:\n",
    "        start = max(float(interval['start']), query_start)\n",
    "        end = min(float(interval['end']), query_end)\n",
    "        if start < end:\n",
    "            duration = end - start\n",
    "            speaker = interval['speaker']\n",
    "            speaker_times[speaker] += duration\n",
    "\n",
    "    if not speaker_times:\n",
    "        return None, 0.0\n",
    "\n",
    "    top_speaker = max(speaker_times.items(), key=lambda x: x[1])\n",
    "    return top_speaker  # returns (speaker_name, total_time)"
   ]
  },
  {
   "cell_type": "markdown",
   "id": "ab6bfb8c-dd94-45ac-bd76-c828c6636577",
   "metadata": {},
   "source": [
    "### Load Data"
   ]
  },
  {
   "cell_type": "code",
   "execution_count": 6,
   "id": "c0de7b24-484d-4161-bd9f-8ad903374ccb",
   "metadata": {},
   "outputs": [],
   "source": [
    "speaker_changes_path = '/work/users/s/m/smerrill/Albemarle/speakerChanges'\n",
    "whisper_diariaztion_path = '/work/users/s/m/smerrill/Albemarle/whisperDiarization'"
   ]
  },
  {
   "cell_type": "code",
   "execution_count": 13,
   "id": "a675b2c2-cd99-43ad-af84-eb6bb8fddc02",
   "metadata": {},
   "outputs": [],
   "source": [
    "speaker_changes_files = os.listdir(speaker_changes_path)\n",
    "whisper_diariaztion_files = os.listdir(whisper_diariaztion_path)\n",
    "common_files = list(set(speaker_changes_files) & set(whisper_diariaztion_files))"
   ]
  },
  {
   "cell_type": "markdown",
   "id": "694b7371-3163-4f58-bc2f-7d81e5d70aaf",
   "metadata": {},
   "source": [
    "### Build transcript by combining Diarization with Visual Speaker Detection"
   ]
  },
  {
   "cell_type": "code",
   "execution_count": 44,
   "id": "54629032-bebf-42b0-b840-1cd95731f4ed",
   "metadata": {},
   "outputs": [],
   "source": [
    "save_path = '/work/users/s/m/smerrill/Albemarle/transcripts'"
   ]
  },
  {
   "cell_type": "code",
   "execution_count": 46,
   "id": "cde08a6e-805b-4d2b-8d38-20550be55411",
   "metadata": {},
   "outputs": [],
   "source": [
    "for file_name in common_files:\n",
    "    changes_file = os.path.join(speaker_changes_path, file_name)\n",
    "    whisper_file = os.path.join(whisper_diariaztion_path, file_name)\n",
    "    \n",
    "    speakerChanges = np.load(changes_file, allow_pickle=True)\n",
    "    diarization = np.load(whisper_file, allow_pickle=True)\n",
    "\n",
    "    merged_diarization = merge_diarization(diarization)\n",
    "    custom_end_time = merged_diarization[-1]['end']\n",
    "\n",
    "    speakerChanges = group_similar_speaker_names(speakerChanges)\n",
    "    speakerChanges = merge_consecutive_speaker_segments(speakerChanges, custom_end_time)\n",
    "    \n",
    "    transcript = []\n",
    "    for segment in merged_diarization:\n",
    "        start, end = segment['start'], segment['end']\n",
    "        text = segment['text']\n",
    "        speaker, speak_time = top_speaker(speakerChanges, start, end)\n",
    "        if speaker is None:\n",
    "            print(\"HERE\")\n",
    "            break\n",
    "        transcript.append({'speaker':speaker, 'text':text})\n",
    "    np.save(os.path.join(save_path, file_name), transcript)\n",
    "    break"
   ]
  },
  {
   "cell_type": "code",
   "execution_count": null,
   "id": "07232cf2-669b-4226-81c5-959fc77de682",
   "metadata": {},
   "outputs": [],
   "source": []
  },
  {
   "cell_type": "code",
   "execution_count": null,
   "id": "fd480380-1f70-450f-b472-68f5a7fa167e",
   "metadata": {},
   "outputs": [],
   "source": []
  }
 ],
 "metadata": {
  "kernelspec": {
   "display_name": "ocr-env",
   "language": "python",
   "name": "ocr-env"
  },
  "language_info": {
   "codemirror_mode": {
    "name": "ipython",
    "version": 3
   },
   "file_extension": ".py",
   "mimetype": "text/x-python",
   "name": "python",
   "nbconvert_exporter": "python",
   "pygments_lexer": "ipython3",
   "version": "3.10.16"
  }
 },
 "nbformat": 4,
 "nbformat_minor": 5
}
