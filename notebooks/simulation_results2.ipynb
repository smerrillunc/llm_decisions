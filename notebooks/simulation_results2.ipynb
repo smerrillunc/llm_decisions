{
 "cells": [
  {
   "cell_type": "code",
   "execution_count": 2,
   "id": "07e1501e",
   "metadata": {},
   "outputs": [],
   "source": [
    "import pandas as pd\n",
    "import numpy as np\n",
    "import json"
   ]
  },
  {
   "cell_type": "code",
   "execution_count": null,
   "id": "8edf166b",
   "metadata": {},
   "outputs": [],
   "source": [
    "full_conversation_path = '/playpen-ssd/smerrill/llm_decisions/results_simulation/3.1/T0.4_P0.6_K20_R1.3/full_conversation.json's"
   ]
  },
  {
   "cell_type": "code",
   "execution_count": null,
   "id": "4eed05ee",
   "metadata": {},
   "outputs": [
    {
     "name": "stdout",
     "output_type": "stream",
     "text": [
      "Full conversation entries: 27\n",
      "Public votes entries: 7\n",
      "Private votes entries: 7\n"
     ]
    }
   ],
   "source": [
    "with open(full_conversation_path, 'r') as f:\n",
    "    full_conversation = json.load(f)\n",
    "\n",
    "print(f\"Full conversation entries: {len(full_conversation)}\")"
   ]
  },
  {
   "cell_type": "code",
   "execution_count": null,
   "id": "10d3d168",
   "metadata": {},
   "outputs": [
    {
     "name": "stdout",
     "output_type": "stream",
     "text": [
      "Private Votes: {'yes': 6, 'no': 0, 'abstain': 1}\n",
      "Public Votes: {'yes': 5, 'no': 0, 'abstain': 2}\n"
     ]
    }
   ],
   "source": [
    "import json\n",
    "\n",
    "def detect_directed_question(agent, speaker, content, participants):\n",
    "    \"\"\"\n",
    "    Detect if an utterance is a question and who it is directed to.\n",
    "    \n",
    "    Returns:\n",
    "        dict with keys: \"is_question\" (bool), \"directed_to\" (str or None)\n",
    "    \"\"\"\n",
    "    participants_str = \", \".join(participants)\n",
    "    \n",
    "    prompt = f\"\"\"\n",
    "You are analyzing a school board meeting transcript.\n",
    "\n",
    "Participants: {participants_str}\n",
    "\n",
    "Task:\n",
    "1. Determine if the speaker is asking a question.\n",
    "2. If yes, detect the intended recipient from the participants list.\n",
    "3. Only output in JSON format:\n",
    "{{\"is_question\": true/false, \"directed_to\": \"<participant_name or null>\"}}\n",
    "\n",
    "Constraints:\n",
    "- Only use the participants listed above.\n",
    "- If the question is general or rhetorical, set \"directed_to\": null.\n",
    "- Only output JSON.\n",
    "\n",
    "Utterance:\n",
    "Speaker: {speaker}\n",
    "Content: {content}\n",
    "\n",
    "Output:\n",
    "\"\"\"\n",
    "    response = agent.generate_response(prompt)\n",
    "    \n",
    "    # Parse JSON safely\n",
    "    try:\n",
    "        result = json.loads(response)\n",
    "        # normalize null to Python None\n",
    "        if result.get(\"directed_to\") == \"null\":\n",
    "            result[\"directed_to\"] = None\n",
    "    except json.JSONDecodeError:\n",
    "        result = {\"is_question\": False, \"directed_to\": None}\n",
    "    \n",
    "    return result\n"
   ]
  },
  {
   "cell_type": "code",
   "execution_count": null,
   "id": "a5b5c589",
   "metadata": {},
   "outputs": [],
   "source": [
    "def analyze_transcript(agent, transcript, participants):\n",
    "    \"\"\"\n",
    "    Analyze a transcript and detect directed questions.\n",
    "    \n",
    "    Returns a list of dicts per utterance:\n",
    "    {\n",
    "        \"speaker\": ...,\n",
    "        \"content\": ...,\n",
    "        \"is_question\": True/False,\n",
    "        \"directed_to\": participant or None\n",
    "    }\n",
    "    \"\"\"\n",
    "    results = []\n",
    "    for turn in transcript:\n",
    "        speaker = turn['speaker']\n",
    "        content = turn['content']\n",
    "        detection = detect_directed_question(agent, speaker, content, participants)\n",
    "        results.append({\n",
    "            \"speaker\": speaker,\n",
    "            \"content\": content,\n",
    "            **detection\n",
    "        })\n",
    "    return results\n"
   ]
  },
  {
   "cell_type": "code",
   "execution_count": null,
   "id": "d9f08875",
   "metadata": {},
   "outputs": [],
   "source": [
    "participants = [\"ellenosborne\", \"judyle\", \"grahampaige\", \"katrinacallsen\",\n",
    "                \"kateacuff\", \"davidoberg\", \"jonnoalcaro\"]\n",
    "\n",
    "# Suppose `agent` is your LLaMA70B agent\n",
    "results = analyze_transcript(agent, transcript, participants)\n",
    "\n",
    "# Example output:\n",
    "for r in results:\n",
    "    print(r)\n"
   ]
  },
  {
   "cell_type": "code",
   "execution_count": null,
   "id": "05affe69",
   "metadata": {},
   "outputs": [],
   "source": []
  }
 ],
 "metadata": {
  "kernelspec": {
   "display_name": "hf_env",
   "language": "python",
   "name": "python3"
  },
  "language_info": {
   "codemirror_mode": {
    "name": "ipython",
    "version": 3
   },
   "file_extension": ".py",
   "mimetype": "text/x-python",
   "name": "python",
   "nbconvert_exporter": "python",
   "pygments_lexer": "ipython3",
   "version": "3.10.12"
  }
 },
 "nbformat": 4,
 "nbformat_minor": 5
}
