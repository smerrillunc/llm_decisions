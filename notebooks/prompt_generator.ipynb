{
 "cells": [
  {
   "cell_type": "code",
   "execution_count": 1,
   "id": "d976f8d5-22ba-4ef1-af52-d7e763965edf",
   "metadata": {},
   "outputs": [],
   "source": [
    "import json\n",
    "file_path = '/playpen-ssd/smerrill/llm_decisions/results/test_responses_T0.7_P0.8_K50_R1.2.json'\n",
    "\n",
    "with open(file_path, 'r') as f:\n",
    "    data = json.load(f)"
   ]
  },
  {
   "cell_type": "code",
   "execution_count": 142,
   "id": "d306d545",
   "metadata": {},
   "outputs": [],
   "source": [
    "agent = 'jonnoalcaro'\n",
    "idx = 0\n",
    "response_idx = 1\n",
    "\n",
    "data[agent][idx]\n",
    "best_selection = data[agent][idx]['best_selection']\n",
    "context = data[agent][idx]['prompt']\n",
    "got = data[agent][idx]['true_completion']\n",
    "model_response = data[agent][idx]['model_responses'][best_selection['best_index']]\n",
    "gpt_response = data[agent][idx]['gpt_response']\n",
    "final_comparison = data[agent][idx]['final_comparison']\n"
   ]
  },
  {
   "cell_type": "code",
   "execution_count": null,
   "id": "792af8c8",
   "metadata": {},
   "outputs": [],
   "source": []
  },
  {
   "cell_type": "code",
   "execution_count": null,
   "id": "fdc5f085",
   "metadata": {},
   "outputs": [],
   "source": [
    "def build_cot_json_prompt(reference, response_a, response_b):\n",
    "    return f\"\"\"\n",
    "You are an impartial evaluator comparing two responses (A and B) to a REFERENCE.\n",
    "\n",
    "Your ONLY goal is to determine which response most closely matches the **content and tone** of the REFERENCE — NOT the context or background information.\n",
    "\n",
    "HARD DISQUALIFIERS (automatic loss):\n",
    "- Response copies full sentences or paragraphs from any source outside the REFERENCE.\n",
    "- Response contains multiple speakers or simulates dialogue.\n",
    "- Response is more polished or formal than the REFERENCE if the REFERENCE is hesitant, vague, or informal.\n",
    "\n",
    "DO reward:\n",
    "- Similarity in tone, vagueness, informality, or stream-of-consciousness phrasing — **only if these are present in the REFERENCE.**\n",
    "- Alignment with the key points and main ideas expressed in the REFERENCE.\n",
    "\n",
    "STEP-BY-STEP:\n",
    "1. Check Response A for any disqualifying rules.\n",
    "2. Check Response B for any disqualifying rules.\n",
    "3. If one response violates a rule, it automatically loses.\n",
    "4. If both violate, result is a Tie.\n",
    "5. If neither violates, compare responses for closest match in content and tone to the REFERENCE.\n",
    "6. Confirm your justification is consistent and clearly supports your winner choice.\n",
    "7. If contradictions appear in your justification, revise it or reconsider your winner choice.\n",
    "\n",
    "Return ONLY a JSON object in this format:\n",
    "{{\n",
    "  \"winner\": \"A\" or \"B\" or \"Tie\",\n",
    "  \"justification\": \"1–2 sentences clearly explaining your choice, consistent with the winner.\"\n",
    "}}\n",
    "\n",
    "Reference:\n",
    "\\\"\\\"\\\"{reference.strip()}\\\"\\\"\\\"\n",
    "\n",
    "Response A:\n",
    "\\\"\\\"\\\"{response_a.strip()}\\\"\\\"\\\"\n",
    "\n",
    "Response B:\n",
    "\\\"\\\"\\\"{response_b.strip()}\\\"\\\"\\\"\n",
    "\n",
    "Output JSON Now:\n",
    "\n",
    "\"\"\".strip()\n"
   ]
  },
  {
   "cell_type": "code",
   "execution_count": 144,
   "id": "cadc1932",
   "metadata": {},
   "outputs": [
    {
     "name": "stdout",
     "output_type": "stream",
     "text": [
      "You are an impartial evaluator comparing two responses (A and B) to a REFERENCE.\n",
      "\n",
      "Your ONLY goal is to determine which response most closely matches the **content and tone** of the REFERENCE — NOT the context or background information.\n",
      "\n",
      "HARD DISQUALIFIERS (automatic loss):\n",
      "- Response copies full sentences or paragraphs from any source outside the REFERENCE.\n",
      "- Response contains multiple speakers or simulates dialogue.\n",
      "- Response is more polished or formal than the REFERENCE if the REFERENCE is hesitant, vague, or informal.\n",
      "\n",
      "DO reward:\n",
      "- Similarity in tone, vagueness, informality, or stream-of-consciousness phrasing — **only if these are present in the REFERENCE.**\n",
      "- Alignment with the key points and main ideas expressed in the REFERENCE.\n",
      "\n",
      "STEP-BY-STEP:\n",
      "1. Check Response A for any disqualifying rules.\n",
      "2. Check Response B for any disqualifying rules.\n",
      "3. If one response violates a rule, it automatically loses.\n",
      "4. If both violate, result is a Tie.\n",
      "5. If neither violates, compare responses for closest match in content and tone to the REFERENCE.\n",
      "6. Confirm your justification is consistent and clearly supports your winner choice.\n",
      "7. If contradictions appear in your justification, revise it or reconsider your winner choice.\n",
      "\n",
      "Return ONLY a JSON object in this format:\n",
      "{\n",
      "  \"winner\": \"A\" or \"B\" or \"Tie\",\n",
      "  \"justification\": \"1–2 sentences clearly explaining your choice, consistent with the winner.\"\n",
      "}\n",
      "\n",
      "Reference:\n",
      "\"\"\"I do. I move that the Albemarle County Public School Board go into a closed meeting as authorized by the Virginia Freedom of Information Act, section 2.2-3711A of the Code of Virginia under subsection seven for consultation with legal counsel and briefings by staff members or consultants pertaining to actual or probable litigation. where such consultation or briefing and open meeting would adversely affect the negotiating or litigating posture of the public body and subsection eight for consultation with legal counsel employed or retained by the Albemarle County School Board regarding specific legal matters requiring the provision of legal advice by such counsel.\"\"\"\n",
      "\n",
      "Response A:\n",
      "\"\"\"I move that we approve the consent agenda as presented. Is there a second?  Unknown speaker 2: Second. Unknown speaker 3: The chair recognizes Ms. Haas for discussion or questions on this item.\"\"\"\n",
      "\n",
      "Response B:\n",
      "\"\"\"\"Yes, I move that we approve the revised budget for the upcoming academic year as presented by our superintendent.\"\"\"\"\n"
     ]
    }
   ],
   "source": [
    "print(build_cot_json_prompt(got, model_response, gpt_response))"
   ]
  },
  {
   "cell_type": "code",
   "execution_count": 131,
   "id": "2b0cad57",
   "metadata": {},
   "outputs": [
    {
     "data": {
      "text/plain": [
       "\"cally about what we do if we end up changing our policies. ahead of time, so I think I really want to express appreciation for how you've addressed EO2. And just want to kind of how thoughtfully you have gone about protecting our students over the past two years, because I really greatly appreciate how well you've protected my son. I also want to appreciate how well you've taught diversity and history. And I hope that you guys continue to kind of think about the diversity curriculum in terms of how you teach it within our schools to make sure that they're prepared for facing the greater world. going forward, because I think it's really important that we prepare our children to really be aware of different cultural backgrounds other than our own, so that when they go to college or go to graduate school, they're fully prepared. And I'm not sure if EO1 will really prepare us for that. Thank you. I appreciate your time.<|eot_id|>\\n\\n<|start_header_id|>assistant<|end_header_id|>\\n\\njonnoalcaro:\""
      ]
     },
     "execution_count": 131,
     "metadata": {},
     "output_type": "execute_result"
    }
   ],
   "source": [
    "context[-1000:]"
   ]
  },
  {
   "cell_type": "code",
   "execution_count": null,
   "id": "12ae8797",
   "metadata": {},
   "outputs": [],
   "source": []
  },
  {
   "cell_type": "code",
   "execution_count": null,
   "id": "5db3b96a",
   "metadata": {},
   "outputs": [],
   "source": []
  }
 ],
 "metadata": {
  "kernelspec": {
   "display_name": "hf_env",
   "language": "python",
   "name": "python3"
  },
  "language_info": {
   "codemirror_mode": {
    "name": "ipython",
    "version": 3
   },
   "file_extension": ".py",
   "mimetype": "text/x-python",
   "name": "python",
   "nbconvert_exporter": "python",
   "pygments_lexer": "ipython3",
   "version": "3.10.12"
  }
 },
 "nbformat": 4,
 "nbformat_minor": 5
}
