{
 "cells": [
  {
   "cell_type": "code",
   "execution_count": 67,
   "id": "a684e57f-198a-4bd4-85a3-fff75c369aa1",
   "metadata": {},
   "outputs": [
    {
     "name": "stderr",
     "output_type": "stream",
     "text": [
      "/work/users/s/m/smerrill/.conda/envs/speaker/lib/python3.13/site-packages/transformers/utils/hub.py:111: FutureWarning: Using `TRANSFORMERS_CACHE` is deprecated and will be removed in v5 of Transformers. Use `HF_HOME` instead.\n",
      "  warnings.warn(\n"
     ]
    }
   ],
   "source": [
    "import numpy as np\n",
    "from typing import List, Tuple\n",
    "import os\n",
    "import openai\n",
    "import re\n",
    "\n",
    "import openai\n",
    "from openai import OpenAI\n",
    "import evaluate\n",
    "\n",
    "openai.api_key = key"
   ]
  },
  {
   "cell_type": "code",
   "execution_count": 73,
   "id": "aa449001-3cc9-47ea-be06-ce581049d3ec",
   "metadata": {},
   "outputs": [],
   "source": [
    "def train_test_split(member: str, test_size: float = 0.2, seed: int = 42, data_path: str = '/work/users/s/m/smerrill/Albemarle/dataset') -> Tuple[List[dict], List[dict]]:\n",
    "    \"\"\"\n",
    "    Splits the dataset into training and test sets. Synthetic data is always added to the training set.\n",
    "\n",
    "    Parameters:\n",
    "    - member: The name identifier for the board member.\n",
    "    - test_size: Proportion of the real (non-synthetic) data to include in the test split.\n",
    "    - seed: Random seed for reproducibility.\n",
    "    - data_path: Base directory for the dataset files.\n",
    "\n",
    "    Returns:\n",
    "    - A tuple (train_data, test_data)\n",
    "    \"\"\"\n",
    "    real_data, synth_data = [], []\n",
    "\n",
    "    if member == 'kateacuff':\n",
    "        real_data = np.load(os.path.join(data_path, 'kateacuff_train.npy'))\n",
    "        synth_data = np.load(os.path.join(data_path, 'synth_kateacuff.npy'))\n",
    "        test_data = np.load(os.path.join(data_path, 'kateacuff_test.npy'), allow_pickle=True)\n",
    "        train_completion_data = np.load(os.path.join(data_path, 'kateacuff_train_completion.npy'), allow_pickle=True)\n",
    "\n",
    "        \n",
    "    elif member == 'ellenosborne':\n",
    "        real_data = np.load(os.path.join(data_path, 'ellenosborne_train.npy'))\n",
    "        synth_data = np.load(os.path.join(data_path, 'synth_ellenosborne.npy'))\n",
    "        test_data = np.load(os.path.join(data_path, 'ellenosborne_test.npy'), allow_pickle=True)\n",
    "        train_completion_data = np.load(os.path.join(data_path, 'ellenosborne_train_completion.npy'), allow_pickle=True)\n",
    "        \n",
    "    elif member == 'grahampaige':\n",
    "        real_data = np.load(os.path.join(data_path, 'grahampaige_train.npy'))\n",
    "        synth_data = np.load(os.path.join(data_path, 'synth_grahampaige.npy'))\n",
    "        test_data = np.load(os.path.join(data_path, 'grahampaige_test.npy'), allow_pickle=True)\n",
    "        train_completion_data = np.load(os.path.join(data_path, 'grahampaige_train_completion.npy'), allow_pickle=True)                             \n",
    "        \n",
    "    elif member == 'judyle':\n",
    "        real_data = np.load(os.path.join(data_path, 'judyle_train.npy'))\n",
    "        synth_data = np.load(os.path.join(data_path, 'synth_judyle.npy'))\n",
    "        test_data = np.load(os.path.join(data_path, 'judyle_test.npy'), allow_pickle=True)\n",
    "        train_completion_data = np.load(os.path.join(data_path, 'judyle_train_completion.npy'), allow_pickle=True)\n",
    "        \n",
    "    elif member == 'katrinacallsen':\n",
    "        real_data = np.load(os.path.join(data_path, 'katrinacallsen_train.npy'))\n",
    "        test_data = np.load(os.path.join(data_path, 'katrinacallsen_test.npy'), allow_pickle=True)\n",
    "        train_completion_data = np.load(os.path.join(data_path, 'katrinacallsen_train_completion.npy'), allow_pickle=True)\n",
    "        \n",
    "    elif member == 'davidoberg':\n",
    "        real_data = np.load(os.path.join(data_path, 'davidoberg_train.npy'))\n",
    "        test_data = np.load(os.path.join(data_path, 'davidoberg_test.npy'), allow_pickle=True)\n",
    "        train_completion_data = np.load(os.path.join(data_path, 'davidoberg_train_completion.npy'), allow_pickle=True)\n",
    "        \n",
    "    elif member == 'jonnoalcaro':\n",
    "        real_data = np.load(os.path.join(data_path, 'jonnoalcaro_train.npy'))\n",
    "        test_data = np.load(os.path.join(data_path, 'jonnoalcaro_test.npy'), allow_pickle=True)\n",
    "        train_completion_data = np.load(os.path.join(data_path, 'jonnoalcaro_train_completion.npy'), allow_pickle=True)\n",
    "        \n",
    "    else:\n",
    "        raise ValueError(f\"Unknown member: {member}\")\n",
    "\n",
    "    if not 0 < test_size < 1:\n",
    "        raise ValueError(\"test_size must be a float between 0 and 1.\")\n",
    "\n",
    "    train_data = list(real_data) + list(synth_data)\n",
    "    return train_data, test_data, train_completion_data\n",
    "\n",
    "\n",
    "def convert_to_chat_completion(text):\n",
    "    # Split the text using your special markers\n",
    "    segments = re.split(r'<\\|start_header_id\\|>(.*?)<\\|end_header_id\\|>', text)\n",
    "\n",
    "    messages = []\n",
    "    role = None\n",
    "\n",
    "    for i in range(1, len(segments), 2):\n",
    "        role = segments[i].strip()\n",
    "        content = segments[i + 1].strip()\n",
    "\n",
    "        # Remove <|begin_of_text|> and <|eot_id|> markers if present\n",
    "        content = content.replace('<|begin_of_text|>', '').replace('<|eot_id|>', '').strip()\n",
    "\n",
    "        messages.append({\n",
    "            \"role\": role,\n",
    "            \"content\": content\n",
    "        })\n",
    "\n",
    "    return messages\n",
    "\n",
    "\n",
    "def compute_metrics(generated_texts, reference_texts):\n",
    "\n",
    "    # Compute metrics\n",
    "    bleu_score = bleu.compute(predictions=generated_texts, references=[[r] for r in reference_texts])\n",
    "    rouge_score = rouge.compute(predictions=generated_texts, references=reference_texts)\n",
    "    bertscore_result = bertscore.compute(predictions=generated_texts, references=reference_texts, lang=\"en\")\n",
    "\n",
    "    # Average BERTScore F1\n",
    "    avg_bertscore_f1 = sum(bertscore_result['f1']) / len(bertscore_result['f1'])\n",
    "            \n",
    "    return bleu_score, rouge_score, bertscore_result, avg_bertscore_f1"
   ]
  },
  {
   "cell_type": "code",
   "execution_count": 41,
   "id": "2c0e63a9-75b8-4d89-af7c-92401c806442",
   "metadata": {},
   "outputs": [],
   "source": [
    "train_data, test_data, train_completion_data = train_test_split('kateacuff')"
   ]
  },
  {
   "cell_type": "code",
   "execution_count": 88,
   "id": "4f75524b-817b-4d36-8cba-2ccdd91c3f28",
   "metadata": {},
   "outputs": [],
   "source": [
    "\n",
    "system_message = { \"role\": \"system\",\n",
    "  \"content\": (\n",
    "    \"You are completing a transcript of a public Albemarle County School Board meeting.\\n\\n\"\n",
    "    \"Your task is to continue the dialogue in the voice of **Dr. Kate Acuff**, a long-serving and thoughtful School Board member who represents the Jack Jouett Magisterial District. She brings a deep background in law, public health, and education policy, and she is a strong advocate for mental health services, equitable education, and teacher support.\\n\\n\"\n",
    "    \"Dr. Acuff's tone is professional, reflective, respectful, and policy-focused. She often expresses appreciation for thoughtful processes, values student input, and is attentive to the long-term impacts of Board decisions.\\n\\n\"\n",
    "    \"Please complete the next line in the dialogue, starting with `kateacuff:` and continuing naturally based on the conversation so far.\\n\\n\"\n",
    "    \"**In-context example**:\\n\"\n",
    "    \"Previous messages:\\n\"\n",
    "    \"speaker 1: Thank you all for coming here today. I believe we have a presentations to kick things off unless anyone has other more important matters.\\n\"\n",
    "    \"speaker 2: No I think we can go ahead and begin with the presentation, kate will you be presenting today?\\n\"\n",
    "    \"kateacuff: Yes I will presenting on the health and saftey of our schools.\"\n",
    "\n",
    "    \"\\n\\n\"\n",
    "      \n",
    "    \"Now continue previous dialogue as:\\n\"\n",
    "    \"  kateacuff:\"\n",
    "  )\n",
    "}\n",
    "\n",
    "messages = convert_to_chat_completion(test_data[0]['prompt'])[:-1]\n",
    "messages.append(system_message)"
   ]
  },
  {
   "cell_type": "code",
   "execution_count": 89,
   "id": "8bcca2a7-5394-4189-b545-144639a035b6",
   "metadata": {},
   "outputs": [
    {
     "data": {
      "text/plain": [
       "[{'role': 'user',\n",
       "  'content': \"davidoberg: Patrick, can you just bring up the map for 2.2 again real quick? Sure can, yep.\\npatrickmclaughlin: Here you go. And Mr. Oberg, that comprises the neighborhoods of Gray Rock, Wayland's Grant and Bargaman Park in this larger area of Western Ridge, Wickham Pond. Oops, sorry, I thought it was sharing, but it's not. So is it coming through now? Yes. Great. So that comprises the neighborhoods of Gray Rock here, number one, Wayland's Grant and Bargaman Park. number two, and Western Ridge Wickham Pond. That also has some additional neighborhoods in there. I think Foothill Crossing is one of the newer ones that's over there, but that whole area that we've dubbed Western Ridge Wickham Pond.\\nunknownspeaker: So there are no islands being created.\\npotnekclou: That is correct. There are no islands. There was one scenario that we put before the advisory committee that had an island there. And that was outside of the guiding principles that were provided by the board. And that one was not moved forward. Thank you.\\nunknownspeaker: Yep.\"},\n",
       " {'role': 'system',\n",
       "  'content': \"You are completing a transcript of a public Albemarle County School Board meeting.\\n\\nYour task is to continue the dialogue in the voice of **Dr. Kate Acuff**, a long-serving and thoughtful School Board member who represents the Jack Jouett Magisterial District. She brings a deep background in law, public health, and education policy, and she is a strong advocate for mental health services, equitable education, and teacher support.\\n\\nDr. Acuff's tone is professional, reflective, respectful, and policy-focused. She often expresses appreciation for thoughtful processes, values student input, and is attentive to the long-term impacts of Board decisions.\\n\\nPlease complete the next line in the dialogue, starting with `kateacuff:` and continuing naturally based on the conversation so far.\\n\\n**In-context example**:\\nPrevious messages:\\nspeaker 1: Thank you all for coming here today. I believe we have a presentations to kick things off unless anyone has other more important matters.\\nspeaker 2: No I think we can go ahead and begin with the presentation, kate will you be presenting today?\\nkateacuff: Yes I will presenting on the health and saftey of our schools.\\n\\nNow continue previous dialogue as:\\n  kateacuff:\"}]"
      ]
     },
     "execution_count": 89,
     "metadata": {},
     "output_type": "execute_result"
    }
   ],
   "source": [
    "messages"
   ]
  },
  {
   "cell_type": "code",
   "execution_count": 48,
   "id": "870592e1-7b2b-44c3-9a21-2739879d7bba",
   "metadata": {},
   "outputs": [],
   "source": [
    "client = OpenAI(api_key=key)  # Replace with your actual key\n",
    "\n",
    "response = client.chat.completions.create(\n",
    "    model=\"gpt-4o\",  # or gpt-4-turbo, gpt-3.5-turbo\n",
    "    messages=messages,\n",
    ")\n",
    "\n",
    "print(response.choices[0].message.content)"
   ]
  },
  {
   "cell_type": "code",
   "execution_count": 52,
   "id": "ccb6d3c3-5402-405b-b7ab-a7b420007253",
   "metadata": {},
   "outputs": [
    {
     "data": {
      "text/plain": [
       "20"
      ]
     },
     "execution_count": 52,
     "metadata": {},
     "output_type": "execute_result"
    }
   ],
   "source": [
    "len(test_data)"
   ]
  },
  {
   "cell_type": "code",
   "execution_count": 55,
   "id": "3cf48240-e74d-4808-ae1a-19dc4d96b495",
   "metadata": {},
   "outputs": [],
   "source": [
    "generated_text40 = []\n",
    "reference_text = []\n",
    "\n",
    "for item in test_data:\n",
    "    messages = convert_to_chat_completion(item['prompt'])[:-1]\n",
    "    messages.append(system_message)\n",
    "    \n",
    "    response = client.chat.completions.create(\n",
    "    model=\"gpt-4o\",  # or gpt-4-turbo, gpt-3.5-turbo\n",
    "    messages=messages,\n",
    "    )\n",
    "    generated_text40.append(response.choices[0].message.content)\n",
    "    reference_text.append(item['completion'])"
   ]
  },
  {
   "cell_type": "code",
   "execution_count": 66,
   "id": "ecead9d7-15f0-4401-b5d7-157efbe0ea91",
   "metadata": {},
   "outputs": [],
   "source": [
    "np.save('gpt40.npy', generated_text35)"
   ]
  },
  {
   "cell_type": "code",
   "execution_count": 56,
   "id": "9fec5cc0-36b8-4743-8e2d-1512ec39f1fa",
   "metadata": {},
   "outputs": [],
   "source": [
    "generated_text35 = []\n",
    "reference_text = []\n",
    "\n",
    "for item in test_data:\n",
    "    messages = convert_to_chat_completion(item['prompt'])[:-1]\n",
    "    messages.append(system_message)\n",
    "    \n",
    "    response = client.chat.completions.create(\n",
    "    model=\"gpt-3.5-turbo\",\n",
    "    messages=messages,\n",
    "    )\n",
    "    generated_text35.append(response.choices[0].message.content)\n",
    "    reference_text.append(item['completion'])"
   ]
  },
  {
   "cell_type": "code",
   "execution_count": 65,
   "id": "3a3742f2-552e-443b-babd-97837e98b5db",
   "metadata": {},
   "outputs": [],
   "source": [
    "np.save('gpt3.5.npy', generated_text35)"
   ]
  },
  {
   "cell_type": "code",
   "execution_count": 71,
   "id": "b6901017-1d09-4d43-96ad-f2815ca04e8c",
   "metadata": {},
   "outputs": [],
   "source": [
    "bleu = evaluate.load(\"bleu\")\n",
    "rouge = evaluate.load(\"rouge\")\n",
    "bertscore = evaluate.load(\"bertscore\")"
   ]
  },
  {
   "cell_type": "code",
   "execution_count": 75,
   "id": "5ead03ff-c616-450b-bbc0-b2e9901f38e8",
   "metadata": {},
   "outputs": [
    {
     "name": "stderr",
     "output_type": "stream",
     "text": [
      "Some weights of RobertaModel were not initialized from the model checkpoint at roberta-large and are newly initialized: ['pooler.dense.bias', 'pooler.dense.weight']\n",
      "You should probably TRAIN this model on a down-stream task to be able to use it for predictions and inference.\n"
     ]
    }
   ],
   "source": [
    "metrics_list = []\n",
    "bleu_score, rouge_score, bertscore_result, avg_bertscore_f1 = compute_metrics(generated_text35, reference_text)\n",
    "\n",
    "metrics_list.append({\n",
    "    \"ModelName\": 'GPT3.5-Turbo',\n",
    "    \"dataset\": 'kateacuff',\n",
    "    \"BLEU\": bleu_score[\"bleu\"],\n",
    "    \"ROUGE-L\": rouge_score[\"rougeL\"],\n",
    "    \"BERTScore_F1\": avg_bertscore_f1\n",
    "})\n"
   ]
  },
  {
   "cell_type": "code",
   "execution_count": 91,
   "id": "9d0069d6-c3ec-4deb-a640-a43ae4d54fc1",
   "metadata": {},
   "outputs": [],
   "source": [
    "bleu_score, rouge_score, bertscore_result, avg_bertscore_f1 = compute_metrics(generated_text40, reference_text)\n",
    "\n",
    "metrics_list.append({\n",
    "    \"ModelName\": 'GPT4o',\n",
    "    \"dataset\": 'kateacuff',\n",
    "    \"BLEU\": bleu_score[\"bleu\"],\n",
    "    \"ROUGE-L\": rouge_score[\"rougeL\"],\n",
    "    \"BERTScore_F1\": avg_bertscore_f1\n",
    "})\n"
   ]
  },
  {
   "cell_type": "code",
   "execution_count": 95,
   "id": "f76b4cd6-fa14-44f5-a317-07119b0cc603",
   "metadata": {},
   "outputs": [
    {
     "data": {
      "text/html": [
       "<div>\n",
       "<style scoped>\n",
       "    .dataframe tbody tr th:only-of-type {\n",
       "        vertical-align: middle;\n",
       "    }\n",
       "\n",
       "    .dataframe tbody tr th {\n",
       "        vertical-align: top;\n",
       "    }\n",
       "\n",
       "    .dataframe thead th {\n",
       "        text-align: right;\n",
       "    }\n",
       "</style>\n",
       "<table border=\"1\" class=\"dataframe\">\n",
       "  <thead>\n",
       "    <tr style=\"text-align: right;\">\n",
       "      <th></th>\n",
       "      <th>ModelName</th>\n",
       "      <th>dataset</th>\n",
       "      <th>BLEU</th>\n",
       "      <th>ROUGE-L</th>\n",
       "      <th>BERTScore_F1</th>\n",
       "    </tr>\n",
       "  </thead>\n",
       "  <tbody>\n",
       "    <tr>\n",
       "      <th>0</th>\n",
       "      <td>GPT3.5-Turbo</td>\n",
       "      <td>kateacuff</td>\n",
       "      <td>0.007075</td>\n",
       "      <td>0.113478</td>\n",
       "      <td>0.837643</td>\n",
       "    </tr>\n",
       "    <tr>\n",
       "      <th>1</th>\n",
       "      <td>GPT4o</td>\n",
       "      <td>kateacuff</td>\n",
       "      <td>0.000000</td>\n",
       "      <td>0.101245</td>\n",
       "      <td>0.834214</td>\n",
       "    </tr>\n",
       "  </tbody>\n",
       "</table>\n",
       "</div>"
      ],
      "text/plain": [
       "      ModelName    dataset      BLEU   ROUGE-L  BERTScore_F1\n",
       "0  GPT3.5-Turbo  kateacuff  0.007075  0.113478      0.837643\n",
       "1         GPT4o  kateacuff  0.000000  0.101245      0.834214"
      ]
     },
     "execution_count": 95,
     "metadata": {},
     "output_type": "execute_result"
    }
   ],
   "source": [
    "import pandas as pd\n",
    "pd.DataFrame([metrics_list[0], metrics_list[2]])"
   ]
  },
  {
   "cell_type": "code",
   "execution_count": 80,
   "id": "3bfb7f4e-ac0b-41e5-89a5-30dbaeaf310a",
   "metadata": {},
   "outputs": [
    {
     "data": {
      "text/plain": [
       "[{'role': 'user',\n",
       "  'content': \"jonnoalcaro: I understand, thank you for that. And my last question has to do with, I know that there have been some challenges this year in hiring TAs and in some cases, teachers. What's your strategy for the next upcoming school year?\\nunknownspeaker: We'll partner right with as, as many as I mentioned, as many departments as we can write to boost and to get out the word and use our community connections, as much as possible which we've developed over time. So we've done national stuff we work very closely with. Folks are supports down in human resources. And so, through professional organizations, we publish and post on the walls at universities, not just UVA, but in the area, we have connections as far up as Philadelphia for placements for internships to try and foster students to come in internship here and stay. Uh, so we have a lot of things going on. We take this very serious. Um, but as far as, so that's, that's sort of the projected, um, which is what you were asking about, right? Like, what are you getting prepared for, for next year? It's an early start and using as many leverage points as we can, uh, to pull people in. Thank you, Mr. Coase. Sure. Are there other questions from the board? Mr. Kurtz?\\ngrahampaige: Okay, Mr. Kurtz, like on the graph, you showed 721 for projected year. And then I didn't write the figure down, but you mentioned another figure that it already exceeded one of your projections. So, As far as you think, the 721 will still be what we should expect in enrollment next year, right? That's still- 1720, yes.\\nkevinkirst: For students K-12 in our public schools, that's what I'm expecting. That's right. The other number were just, were preschoolers. And they're both in our schools and in the community, but I did break, we did break those out separate. Okay. I do. I'm, yeah, it's, it's feeling like it's going to happen.\\nunknownspeaker: All right. All right, thank you. Thank you. Any other questions from the board? Okay, Ms. Kumasawa, are you gonna come back or? Yeah, sure, I have a few closing slides. Okay. So thank you for Mr. Kurtz and Ms. McLean and all of the school board questions. As a summary, these are the budget changes that were talked about this evening in terms of specific proposals. So as a next step, I went through this in the beginning, but we will meet again a week from today. And at that work session will be employee and HR focused, focus on the organization. So proposals that you see that are related to compensation, benefits, staffing levels that will be covered and healthcare will be covered during next week's work session. The third work session will cover some of the remaining proposals. But if there's any other part of the budget book as you work through it that you want to learn more about, hear more about, we can certainly bring that up at the March 3rd work session as well. That'll give us a week before the funding request is approved. Are there any questions about the schedule? All right. As Mr. Alcaro mentioned, if there are any questions from the school board or from the public, you can email budget at k12albumiral.org and the detailed funding request is posted on the website by section for you all and the public to read and ask about.\\nahampaig: Okay, thank you. I know it was a whole team that put the book together.\"},\n",
       " {'role': 'assistant',\n",
       "  'content': 'kateacuff: Thank you all for your time this evening and I look forward to seeing you a week from now.'},\n",
       " {'role': 'user', 'content': 'unknownspeaker: Dr. Acoff, you had a question?'},\n",
       " {'role': 'system',\n",
       "  'content': \"You are completing a transcript of a public Albemarle County School Board meeting.\\n\\nYour task is to continue the dialogue in the voice of **Dr. Kate Acuff**, a long-serving and thoughtful School Board member who represents the Jack Jouett Magisterial District. She brings a deep background in law, public health, and education policy, and she is a strong advocate for mental health services, equitable education, and teacher support.\\n\\nDr. Acuff's tone is professional, reflective, respectful, and policy-focused. She often expresses appreciation for thoughtful processes, values student input, and is attentive to the long-term impacts of Board decisions.\\n\\nPlease complete the next line in the dialogue, starting with `kateacuff:` and continuing naturally based on the conversation so far.\\n\\n**In-context example**:\\nPrevious messages:\\nmatthewhaas: I would just want to really say to Hannah and Jasmine and Ashby just how grateful I am for your leadership in this process...\\ngrahampaige: Thank you, Ms. Fernandez, Ms. Johnson, and Ms. Peters for your great work...\\njudyle: I just really wanted to second what Dr. Haas said about the student engagement...\\ndavidoberg: Ashby, I just hope that if we adopt this name, that at every graduation, you play Don't Stop Believing.\\njonnoalcaro: Yeah. You know, I was very taken by the quote, Hannah, that you had on the last slide...\\ngrahampaige: True. Could I have a motion in regards to the recommendation from the committee?\\nalcaro: I move that we approve the renaming of Jack Jewett Middle School to Journey Middle School.\\nunknownspeaker: Second. It's been moved by Mr. Alcaro, seconded by Mr. Oberg.\\n\\nNow continue with:\\n  kateacuff:\"}]"
      ]
     },
     "execution_count": 80,
     "metadata": {},
     "output_type": "execute_result"
    }
   ],
   "source": [
    "messages["
   ]
  },
  {
   "cell_type": "code",
   "execution_count": 90,
   "id": "5748880a-5575-4729-bd4f-84baada46abd",
   "metadata": {},
   "outputs": [
    {
     "name": "stdout",
     "output_type": "stream",
     "text": [
      "You are completing a transcript of a public Albemarle County School Board meeting.\n",
      "\n",
      "Your task is to continue the dialogue in the voice of **Dr. Kate Acuff**, a long-serving and thoughtful School Board member who represents the Jack Jouett Magisterial District. She brings a deep background in law, public health, and education policy, and she is a strong advocate for mental health services, equitable education, and teacher support.\n",
      "\n",
      "Dr. Acuff's tone is professional, reflective, respectful, and policy-focused. She often expresses appreciation for thoughtful processes, values student input, and is attentive to the long-term impacts of Board decisions.\n",
      "\n",
      "Please complete the next line in the dialogue, starting with `kateacuff:` and continuing naturally based on the conversation so far.\n",
      "\n",
      "**In-context example**:\n",
      "Previous messages:\n",
      "speaker 1: Thank you all for coming here today. I believe we have a presentations to kick things off unless anyone has other more important matters.\n",
      "speaker 2: No I think we can go ahead and begin with the presentation, kate will you be presenting today?\n",
      "kateacuff: Yes I will presenting on the health and saftey of our schools.\n",
      "\n",
      "Now continue previous dialogue as:\n",
      "  kateacuff:\n"
     ]
    }
   ],
   "source": [
    "print(messages[-1]['content'])"
   ]
  },
  {
   "cell_type": "code",
   "execution_count": null,
   "id": "08e3493c-3b9f-40c2-afe6-e68e4bc492f3",
   "metadata": {},
   "outputs": [],
   "source": []
  }
 ],
 "metadata": {
  "kernelspec": {
   "display_name": "speaker",
   "language": "python",
   "name": "speaker"
  },
  "language_info": {
   "codemirror_mode": {
    "name": "ipython",
    "version": 3
   },
   "file_extension": ".py",
   "mimetype": "text/x-python",
   "name": "python",
   "nbconvert_exporter": "python",
   "pygments_lexer": "ipython3",
   "version": "3.13.2"
  }
 },
 "nbformat": 4,
 "nbformat_minor": 5
}
